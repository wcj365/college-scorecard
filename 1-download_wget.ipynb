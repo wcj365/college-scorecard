{
  "nbformat": 4,
  "nbformat_minor": 0,
  "metadata": {
    "kernelspec": {
      "display_name": "Python 3",
      "language": "python",
      "name": "python3"
    },
    "language_info": {
      "codemirror_mode": {
        "name": "ipython",
        "version": 3
      },
      "file_extension": ".py",
      "mimetype": "text/x-python",
      "name": "python",
      "nbconvert_exporter": "python",
      "pygments_lexer": "ipython3",
      "version": "3.7.1"
    },
    "colab": {
      "name": "1-download.ipynb",
      "provenance": [],
      "toc_visible": true,
      "include_colab_link": true
    }
  },
  "cells": [
    {
      "cell_type": "markdown",
      "metadata": {
        "id": "view-in-github",
        "colab_type": "text"
      },
      "source": [
        "<a href=\"https://colab.research.google.com/github/wcj365/college-scorecard/blob/master/1-download_wget.ipynb\" target=\"_parent\"><img src=\"https://colab.research.google.com/assets/colab-badge.svg\" alt=\"Open In Colab\"/></a>"
      ]
    },
    {
      "cell_type": "markdown",
      "metadata": {
        "id": "boQbB1o_l0AF",
        "colab_type": "text"
      },
      "source": [
        "# College Scorecard Data Analysis\n",
        "## Part One - Retrieve Data from the Web\n",
        "**Prefered Method:** *Use Linux shell command wget and unzip* \n",
        "\n",
        "**Data Source:** https://collegescorecard.ed.gov/data/\n",
        "\n"
      ]
    },
    {
      "cell_type": "code",
      "metadata": {
        "id": "SP3xfhLlq5FA",
        "colab_type": "code",
        "colab": {
          "base_uri": "https://localhost:8080/",
          "height": 228
        },
        "outputId": "cf0239fc-acce-4a87-a253-60a5328a9927"
      },
      "source": [
        "# Download the consolidated CSV file and and save it to the drive.\n",
        "\n",
        "!wget https://ed-public-download.app.cloud.gov/downloads/Most-Recent-Cohorts-All-Data-Elements.csv"
      ],
      "execution_count": 6,
      "outputs": [
        {
          "output_type": "stream",
          "text": [
            "--2020-04-30 01:26:06--  https://ed-public-download.app.cloud.gov/downloads/Most-Recent-Cohorts-All-Data-Elements.csv\n",
            "Resolving ed-public-download.app.cloud.gov (ed-public-download.app.cloud.gov)... 52.61.48.158, 15.200.77.159, 15.200.143.17, ...\n",
            "Connecting to ed-public-download.app.cloud.gov (ed-public-download.app.cloud.gov)|52.61.48.158|:443... connected.\n",
            "HTTP request sent, awaiting response... 200 OK\n",
            "Length: 145682768 (139M) [text/csv]\n",
            "Saving to: ‘Most-Recent-Cohorts-All-Data-Elements.csv’\n",
            "\n",
            "Most-Recent-Cohorts 100%[===================>] 138.93M  21.8MB/s    in 7.2s    \n",
            "\n",
            "2020-04-30 01:26:14 (19.4 MB/s) - ‘Most-Recent-Cohorts-All-Data-Elements.csv’ saved [145682768/145682768]\n",
            "\n"
          ],
          "name": "stdout"
        }
      ]
    },
    {
      "cell_type": "code",
      "metadata": {
        "id": "7i4ogu6srP7L",
        "colab_type": "code",
        "colab": {
          "base_uri": "https://localhost:8080/",
          "height": 748
        },
        "outputId": "72375acf-40ba-41c0-aac5-3c60188505ad"
      },
      "source": [
        "# Download the zip file, unzip it, and save individual data files to a local folder.\n",
        "\n",
        "!wget https://ed-public-download.app.cloud.gov/downloads/CollegeScorecard_Raw_Data.zip\n",
        "!unzip -o ./CollegeScorecard_Raw_Data.zip "
      ],
      "execution_count": 7,
      "outputs": [
        {
          "output_type": "stream",
          "text": [
            "--2020-04-30 01:26:42--  https://ed-public-download.app.cloud.gov/downloads/CollegeScorecard_Raw_Data.zip\n",
            "Resolving ed-public-download.app.cloud.gov (ed-public-download.app.cloud.gov)... 52.61.48.158, 15.200.77.159, 15.200.143.17, ...\n",
            "Connecting to ed-public-download.app.cloud.gov (ed-public-download.app.cloud.gov)|52.61.48.158|:443... connected.\n",
            "HTTP request sent, awaiting response... 200 OK\n",
            "Length: 303270475 (289M) [text/csv]\n",
            "Saving to: ‘CollegeScorecard_Raw_Data.zip’\n",
            "\n",
            "CollegeScorecard_Ra 100%[===================>] 289.22M  22.1MB/s    in 14s     \n",
            "\n",
            "2020-04-30 01:26:57 (20.4 MB/s) - ‘CollegeScorecard_Raw_Data.zip’ saved [303270475/303270475]\n",
            "\n",
            "Archive:  ./CollegeScorecard_Raw_Data.zip\n",
            "   creating: CollegeScorecard_Raw_Data/\n",
            "  inflating: CollegeScorecard_Raw_Data/MERGED2011_12_PP.csv  \n",
            "  inflating: CollegeScorecard_Raw_Data/MERGED1999_00_PP.csv  \n",
            "  inflating: CollegeScorecard_Raw_Data/MERGED2006_07_PP.csv  \n",
            "  inflating: CollegeScorecard_Raw_Data/MERGED2014_15_PP.csv  \n",
            "  inflating: CollegeScorecard_Raw_Data/.DS_Store  \n",
            "  inflating: CollegeScorecard_Raw_Data/MERGED2003_04_PP.csv  \n",
            "  inflating: CollegeScorecard_Raw_Data/MERGED1996_97_PP.csv  \n",
            "  inflating: CollegeScorecard_Raw_Data/FieldOfStudyData1516_1617_PP.csv  \n",
            "  inflating: CollegeScorecard_Raw_Data/MERGED2012_13_PP.csv  \n",
            "  inflating: CollegeScorecard_Raw_Data/MERGED2005_06_PP.csv  \n",
            "  inflating: CollegeScorecard_Raw_Data/MERGED2009_10_PP.csv  \n",
            "  inflating: CollegeScorecard_Raw_Data/MERGED2018_19_PP.csv  \n",
            "  inflating: CollegeScorecard_Raw_Data/MERGED2017_18_PP.csv  \n",
            "  inflating: CollegeScorecard_Raw_Data/Crosswalks.zip  \n",
            "  inflating: CollegeScorecard_Raw_Data/MERGED2000_01_PP.csv  \n",
            "  inflating: CollegeScorecard_Raw_Data/MERGED2001_02_PP.csv  \n",
            "  inflating: CollegeScorecard_Raw_Data/MERGED2016_17_PP.csv  \n",
            "  inflating: CollegeScorecard_Raw_Data/MERGED1997_98_PP.csv  \n",
            "  inflating: CollegeScorecard_Raw_Data/MERGED1998_99_PP.csv  \n",
            "  inflating: CollegeScorecard_Raw_Data/data.yaml  \n",
            "  inflating: CollegeScorecard_Raw_Data/MERGED2004_05_PP.csv  \n",
            "  inflating: CollegeScorecard_Raw_Data/MERGED2002_03_PP.csv  \n",
            "  inflating: CollegeScorecard_Raw_Data/MERGED2015_16_PP.csv  \n",
            "  inflating: CollegeScorecard_Raw_Data/MERGED2013_14_PP.csv  \n",
            "  inflating: CollegeScorecard_Raw_Data/MERGED2007_08_PP.csv  \n",
            "  inflating: CollegeScorecard_Raw_Data/MERGED2008_09_PP.csv  \n",
            "  inflating: CollegeScorecard_Raw_Data/MERGED2010_11_PP.csv  \n",
            "  inflating: CollegeScorecard_Raw_Data/FieldOfStudyData1415_1516_PP.csv  \n"
          ],
          "name": "stdout"
        }
      ]
    }
  ]
}